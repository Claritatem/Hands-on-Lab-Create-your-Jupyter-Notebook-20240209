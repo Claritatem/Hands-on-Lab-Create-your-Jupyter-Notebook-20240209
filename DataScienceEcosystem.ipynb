{
 "cells": [
  {
   "cell_type": "markdown",
   "id": "218d777c-e90f-4ee8-9126-bcd80c8a049a",
   "metadata": {
    "tags": []
   },
   "source": [
    "# Data Science Tools and Ecosystem"
   ]
  },
  {
   "cell_type": "markdown",
   "id": "188a3fa3-b1c5-4f76-a99c-4407700df462",
   "metadata": {
    "tags": []
   },
   "source": [
    "In this notebook, we will be summarizing some of the skills that we have learned in our *IBM Data Science Certificate* progression."
   ]
  },
  {
   "cell_type": "markdown",
   "id": "e3b8c029-d71e-40c3-ac02-80c7d8acc867",
   "metadata": {},
   "source": [
    "We will start with an ordered list.  I will itemize three major languages that Data Scientists regularly use.\n",
    "\n",
    "1. Python\n",
    "2. SQL\n",
    "3. R"
   ]
  },
  {
   "cell_type": "markdown",
   "id": "95d12b73-9a3b-488f-b793-db5c78a220dd",
   "metadata": {},
   "source": [
    "Below, I will itemize three libraries that Data Scientists regularly use.\n",
    "\n",
    "1. ggplot\n",
    "2. matplotlib\n",
    "3. dplyr"
   ]
  },
  {
   "cell_type": "markdown",
   "id": "2391a6e2-203d-4392-95ac-0912beb7fdf9",
   "metadata": {},
   "source": [
    "Below is a table showing some of the development enviroments that Data Scientists work in.\n",
    "\n",
    "|Data Science Tools|\n",
    "|-|\n",
    "|Jupyter Labs|\n",
    "|R Studio|\n",
    "|Visual Studio|"
   ]
  },
  {
   "cell_type": "markdown",
   "id": "f194ee33-ffd3-4b24-ad3e-6595c08cc14a",
   "metadata": {},
   "source": [
    "### Below are a few examples of evaluating maths expressions in Python."
   ]
  },
  {
   "cell_type": "code",
   "execution_count": 1,
   "id": "2c9fcb4d-6ea4-471e-8ea7-ac28469b1642",
   "metadata": {
    "tags": []
   },
   "outputs": [
    {
     "data": {
      "text/plain": [
       "17"
      ]
     },
     "execution_count": 1,
     "metadata": {},
     "output_type": "execute_result"
    }
   ],
   "source": [
    "## This a simple expression where I mutiply then add integers.\n",
    "\n",
    "(3*4)+5"
   ]
  },
  {
   "cell_type": "code",
   "execution_count": 1,
   "id": "51a9b780-e459-475b-af35-f150669a7c86",
   "metadata": {
    "tags": []
   },
   "outputs": [
    {
     "name": "stdout",
     "output_type": "stream",
     "text": [
      "3.3333333333333335\n"
     ]
    }
   ],
   "source": [
    "## In this codecell, I will arithmaticly convert minuites to hours.\n",
    "\n",
    "m=200\n",
    "h=60\n",
    "print(m/h)"
   ]
  },
  {
   "cell_type": "markdown",
   "id": "9b217d77-0882-4e41-952f-a157bc447c8e",
   "metadata": {},
   "source": [
    "Objectives:\n",
    "* Understanding how to deploy ordered and ordered lists.\n",
    "* Understanding the difference between code cells and markdown cells.\n",
    "* Understanding the use of H1 - H3 markup notation.\n",
    "* Understanding the execution of code.\n",
    "* Understanding how to rename and save a notebook in the Jupyter IDE. "
   ]
  },
  {
   "cell_type": "markdown",
   "id": "5a4a657a-5b72-4e16-b6b1-0777b31a3c1e",
   "metadata": {},
   "source": [
    "## Author\n",
    "Samuel Ian Martin"
   ]
  },
  {
   "cell_type": "code",
   "execution_count": null,
   "id": "d913fdd5-c0b9-4411-9a8a-0d5a866d1cbf",
   "metadata": {},
   "outputs": [],
   "source": []
  }
 ],
 "metadata": {
  "kernelspec": {
   "display_name": "Python",
   "language": "python",
   "name": "conda-env-python-py"
  },
  "language_info": {
   "codemirror_mode": {
    "name": "ipython",
    "version": 3
   },
   "file_extension": ".py",
   "mimetype": "text/x-python",
   "name": "python",
   "nbconvert_exporter": "python",
   "pygments_lexer": "ipython3",
   "version": "3.7.12"
  }
 },
 "nbformat": 4,
 "nbformat_minor": 5
}
